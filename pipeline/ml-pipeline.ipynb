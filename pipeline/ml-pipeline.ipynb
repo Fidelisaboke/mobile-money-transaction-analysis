{
 "cells": [
  {
   "metadata": {
    "ExecuteTime": {
     "end_time": "2025-06-25T02:39:24.610760Z",
     "start_time": "2025-06-25T02:39:22.742055Z"
    }
   },
   "cell_type": "code",
   "source": [
    "import os\n",
    "import pandas as pd\n",
    "from sklearn.ensemble import RandomForestClassifier\n",
    "from sklearn.model_selection import train_test_split\n",
    "from sklearn.metrics import classification_report, confusion_matrix, roc_auc_score\n",
    "from sklearn.ensemble import RandomForestClassifier\n",
    "\n",
    "try:\n",
    "    # Get the base dataset path from environment variable\n",
    "    base_path = os.getenv(\"DATASET_PATH\")\n",
    "    if base_path is None or base_path.strip() == \"\":\n",
    "        raise EnvironmentError(\"The environment variable 'DATASET_PATH' is not set or is empty.\")\n",
    "\n",
    "    # Load the scaled data\n",
    "    scaled_path = os.path.join(base_path, \"scaled_data.csv\")\n",
    "    df = pd.read_csv(scaled_path)\n",
    "    print(\"✅ Scaled data loaded successfully from:\", scaled_path)\n",
    "    print(df.head())\n",
    "\n",
    "    # Load the original data (with target column)\n",
    "    original_path = os.path.join(base_path, \"transactions.csv\")\n",
    "    raw_df = pd.read_csv(original_path)\n",
    "    print(\"\\n✅ Original data loaded successfully from:\", original_path)\n",
    "    print(raw_df.head())\n",
    "\n",
    "except FileNotFoundError as e:\n",
    "    print(f\"❌ File not found: {e.filename}\")\n",
    "except pd.errors.ParserError as e:\n",
    "    print(f\"❌ CSV parsing error: {e}\")\n",
    "except Exception as e:\n",
    "    print(f\"❌ An unexpected error occurred: {e}\")"
   ],
   "id": "26613d562a932c41",
   "outputs": [
    {
     "name": "stdout",
     "output_type": "stream",
     "text": [
      "✅ Scaled data loaded successfully from: ../data/scaled_data.csv\n",
      "     amount  oldBalInitiator  newBalInitiator  oldBalRecipient  \\\n",
      "0 -0.401636        -1.717325        -1.754478        -0.484986   \n",
      "1 -0.676460        -1.861130        -1.883910        -0.485028   \n",
      "2 -0.677219        -1.861065        -1.884266        -0.485028   \n",
      "3 -0.401321        -1.861483        -1.899568        -0.464584   \n",
      "4 -0.677204        -1.739208        -1.761637        -0.485028   \n",
      "\n",
      "   newBalRecipient  transactionType_DEPOSIT  transactionType_PAYMENT  \\\n",
      "0        -0.414541                      0.0                      0.0   \n",
      "1        -0.511633                      0.0                      1.0   \n",
      "2        -0.508961                      0.0                      1.0   \n",
      "3        -0.394835                      0.0                      0.0   \n",
      "4        -0.508956                      0.0                      1.0   \n",
      "\n",
      "   transactionType_TRANSFER  transactionType_WITHDRAWAL  \n",
      "0                       1.0                         0.0  \n",
      "1                       0.0                         0.0  \n",
      "2                       0.0                         0.0  \n",
      "3                       1.0                         0.0  \n",
      "4                       0.0                         0.0  \n",
      "\n",
      "✅ Original data loaded successfully from: ../data/transactions.csv\n",
      "   step transactionType    amount         initiator  oldBalInitiator  \\\n",
      "0     0        TRANSFER  19824.96  4537027967639631        187712.18   \n",
      "1     0         PAYMENT    598.97  4296267625767470             8.92   \n",
      "2     0         PAYMENT    545.85  4178224023847746            93.60   \n",
      "3     0        TRANSFER  19847.01  4178224023847746          -452.25   \n",
      "4     0         PAYMENT    546.89  4779013371563747        159148.76   \n",
      "\n",
      "   newBalInitiator         recipient  oldBalRecipient  newBalRecipient  \\\n",
      "0        167887.22  4875702729424478             8.31         19833.27   \n",
      "1             8.92        25-0000401             0.00             0.00   \n",
      "2          -452.25        13-0001587             0.00           545.85   \n",
      "3        -20299.26  4096920916696293          4011.72         23858.74   \n",
      "4        158601.88        75-0003564             0.00           546.89   \n",
      "\n",
      "   isFraud  \n",
      "0        1  \n",
      "1        0  \n",
      "2        0  \n",
      "3        1  \n",
      "4        0  \n"
     ]
    }
   ],
   "execution_count": 10
  },
  {
   "metadata": {
    "ExecuteTime": {
     "end_time": "2025-06-25T02:40:08.882820Z",
     "start_time": "2025-06-25T02:40:01.370744Z"
    }
   },
   "cell_type": "code",
   "source": [
    "try:\n",
    "    # Ensure both DataFrames are loaded\n",
    "    if 'df' not in locals() or 'raw_df' not in locals():\n",
    "        raise ValueError(\"Both 'df' (scaled) and 'raw_df' (original) must be loaded.\")\n",
    "\n",
    "    # Check if 'isFraud' exists in the original dataset\n",
    "    if 'isFraud' not in raw_df.columns:\n",
    "        raise KeyError(\"'isFraud' column not found in original dataset.\")\n",
    "\n",
    "    # Add the target column to the scaled data\n",
    "    df['isFraud'] = raw_df['isFraud']\n",
    "\n",
    "    # Save updated file\n",
    "    updated_path = os.path.join(base_path, \"scaled_data.csv\")\n",
    "    df.to_csv(updated_path, index=False)\n",
    "\n",
    "    print(\"✅ 'isFraud' column successfully merged and updated CSV saved.\")\n",
    "    print(df.head())\n",
    "\n",
    "except Exception as e:\n",
    "    print(f\"❌ Failed to merge 'isFraud' into scaled dataset: {e}\")"
   ],
   "id": "25134f48cf84011a",
   "outputs": [
    {
     "name": "stdout",
     "output_type": "stream",
     "text": [
      "✅ 'isFraud' column successfully merged and updated CSV saved.\n",
      "     amount  oldBalInitiator  newBalInitiator  oldBalRecipient  \\\n",
      "0 -0.401636        -1.717325        -1.754478        -0.484986   \n",
      "1 -0.676460        -1.861130        -1.883910        -0.485028   \n",
      "2 -0.677219        -1.861065        -1.884266        -0.485028   \n",
      "3 -0.401321        -1.861483        -1.899568        -0.464584   \n",
      "4 -0.677204        -1.739208        -1.761637        -0.485028   \n",
      "\n",
      "   newBalRecipient  transactionType_DEPOSIT  transactionType_PAYMENT  \\\n",
      "0        -0.414541                      0.0                      0.0   \n",
      "1        -0.511633                      0.0                      1.0   \n",
      "2        -0.508961                      0.0                      1.0   \n",
      "3        -0.394835                      0.0                      0.0   \n",
      "4        -0.508956                      0.0                      1.0   \n",
      "\n",
      "   transactionType_TRANSFER  transactionType_WITHDRAWAL  isFraud  \n",
      "0                       1.0                         0.0        1  \n",
      "1                       0.0                         0.0        0  \n",
      "2                       0.0                         0.0        0  \n",
      "3                       1.0                         0.0        1  \n",
      "4                       0.0                         0.0        0  \n"
     ]
    }
   ],
   "execution_count": 11
  },
  {
   "metadata": {
    "ExecuteTime": {
     "end_time": "2025-06-25T02:40:43.421086Z",
     "start_time": "2025-06-25T02:40:43.390940Z"
    }
   },
   "cell_type": "code",
   "source": [
    "X = df.drop(columns=['isFraud'])\n",
    "y = df['isFraud']"
   ],
   "id": "476e83fb65f1f090",
   "outputs": [],
   "execution_count": 12
  },
  {
   "metadata": {
    "ExecuteTime": {
     "end_time": "2025-06-25T02:41:27.952340Z",
     "start_time": "2025-06-25T02:41:27.949245Z"
    }
   },
   "cell_type": "code",
   "source": [
    "rf_model = RandomForestClassifier(\n",
    "    n_estimators=100,\n",
    "    max_depth=None,\n",
    "    class_weight='balanced',  # handles class imbalance\n",
    "    random_state=42,\n",
    "    n_jobs=-1\n",
    ")"
   ],
   "id": "1240c88721d5744c",
   "outputs": [],
   "execution_count": 14
  },
  {
   "metadata": {
    "ExecuteTime": {
     "end_time": "2025-06-25T02:43:49.851002Z",
     "start_time": "2025-06-25T02:41:29.928063Z"
    }
   },
   "cell_type": "code",
   "source": [
    "# Split features (X) and target (y)\n",
    "X = df.drop(columns=['isFraud'])\n",
    "y = df['isFraud']\n",
    "\n",
    "# Train-test split (stratify ensures class balance)\n",
    "X_train, X_test, y_train, y_test = train_test_split(\n",
    "    X, y, test_size=0.2, stratify=y, random_state=42\n",
    ")\n",
    "\n",
    "# Initialize the Random Forest model\n",
    "rf_model = RandomForestClassifier(\n",
    "    n_estimators=100,\n",
    "    max_depth=None,\n",
    "    class_weight='balanced',  # important for fraud detection\n",
    "    random_state=42,\n",
    "    n_jobs=-1\n",
    ")\n",
    "\n",
    "# Fit the model\n",
    "rf_model.fit(X_train, y_train)\n",
    "\n",
    "# Predict and evaluate\n",
    "y_pred = rf_model.predict(X_test)\n",
    "\n",
    "print(\"✅ Random Forest Results\")\n",
    "print(classification_report(y_test, y_pred, digits=4))\n",
    "print(\"ROC AUC Score:\", roc_auc_score(y_test, y_pred))\n",
    "print(\"Confusion Matrix:\\n\", confusion_matrix(y_test, y_pred))"
   ],
   "id": "8c6f25d6f83eb815",
   "outputs": [
    {
     "name": "stdout",
     "output_type": "stream",
     "text": [
      "✅ Random Forest Results\n",
      "              precision    recall  f1-score   support\n",
      "\n",
      "           0     0.8964    0.9923    0.9419    294828\n",
      "           1     0.1261    0.0096    0.0179     34152\n",
      "\n",
      "    accuracy                         0.8903    328980\n",
      "   macro avg     0.5112    0.5009    0.4799    328980\n",
      "weighted avg     0.8164    0.8903    0.8460    328980\n",
      "\n",
      "ROC AUC Score: 0.5009483446598749\n",
      "Confusion Matrix:\n",
      " [[292547   2281]\n",
      " [ 33823    329]]\n"
     ]
    }
   ],
   "execution_count": 15
  }
 ],
 "metadata": {
  "kernelspec": {
   "display_name": "Python 3",
   "language": "python",
   "name": "python3"
  },
  "language_info": {
   "codemirror_mode": {
    "name": "ipython",
    "version": 2
   },
   "file_extension": ".py",
   "mimetype": "text/x-python",
   "name": "python",
   "nbconvert_exporter": "python",
   "pygments_lexer": "ipython2",
   "version": "2.7.6"
  }
 },
 "nbformat": 4,
 "nbformat_minor": 5
}
